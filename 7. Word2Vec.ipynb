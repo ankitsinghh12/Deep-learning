{
 "cells": [
  {
   "cell_type": "code",
   "execution_count": 3,
   "id": "3d4ffd21",
   "metadata": {},
   "outputs": [
    {
     "name": "stdout",
     "output_type": "stream",
     "text": [
      "Collecting gensim\n",
      "  Downloading gensim-4.3.0-cp38-cp38-win_amd64.whl (24.0 MB)\n",
      "Requirement already satisfied: numpy>=1.18.5 in c:\\users\\ani\\anaconda3\\lib\\site-packages (from gensim) (1.22.4)\n",
      "Collecting Cython==0.29.32\n",
      "  Using cached Cython-0.29.32-py2.py3-none-any.whl (986 kB)\n",
      "Collecting FuzzyTM>=0.4.0\n",
      "  Downloading FuzzyTM-2.0.5-py3-none-any.whl (29 kB)\n",
      "Collecting smart-open>=1.8.1\n",
      "  Downloading smart_open-6.3.0-py3-none-any.whl (56 kB)\n",
      "Collecting scipy>=1.7.0\n",
      "  Downloading scipy-1.10.0-cp38-cp38-win_amd64.whl (42.2 MB)\n",
      "Requirement already satisfied: pandas in c:\\users\\ani\\anaconda3\\lib\\site-packages (from FuzzyTM>=0.4.0->gensim) (1.2.4)\n",
      "Collecting pyfume\n",
      "  Downloading pyFUME-0.2.25-py3-none-any.whl (67 kB)\n",
      "Requirement already satisfied: python-dateutil>=2.7.3 in c:\\users\\ani\\anaconda3\\lib\\site-packages (from pandas->FuzzyTM>=0.4.0->gensim) (2.8.1)\n",
      "Requirement already satisfied: pytz>=2017.3 in c:\\users\\ani\\anaconda3\\lib\\site-packages (from pandas->FuzzyTM>=0.4.0->gensim) (2021.1)\n",
      "Requirement already satisfied: six>=1.5 in c:\\users\\ani\\anaconda3\\lib\\site-packages (from python-dateutil>=2.7.3->pandas->FuzzyTM>=0.4.0->gensim) (1.15.0)\n",
      "Collecting simpful\n",
      "  Downloading simpful-2.9.0-py3-none-any.whl (30 kB)\n",
      "Collecting fst-pso\n",
      "  Downloading fst-pso-1.8.1.tar.gz (18 kB)\n",
      "Collecting miniful\n",
      "  Downloading miniful-0.0.6.tar.gz (2.8 kB)\n",
      "Requirement already satisfied: requests in c:\\users\\ani\\anaconda3\\lib\\site-packages (from simpful->pyfume->FuzzyTM>=0.4.0->gensim) (2.25.1)\n",
      "Requirement already satisfied: chardet<5,>=3.0.2 in c:\\users\\ani\\anaconda3\\lib\\site-packages (from requests->simpful->pyfume->FuzzyTM>=0.4.0->gensim) (4.0.0)\n",
      "Requirement already satisfied: certifi>=2017.4.17 in c:\\users\\ani\\anaconda3\\lib\\site-packages (from requests->simpful->pyfume->FuzzyTM>=0.4.0->gensim) (2022.9.24)\n",
      "Requirement already satisfied: urllib3<1.27,>=1.21.1 in c:\\users\\ani\\anaconda3\\lib\\site-packages (from requests->simpful->pyfume->FuzzyTM>=0.4.0->gensim) (1.26.4)\n",
      "Requirement already satisfied: idna<3,>=2.5 in c:\\users\\ani\\anaconda3\\lib\\site-packages (from requests->simpful->pyfume->FuzzyTM>=0.4.0->gensim) (2.10)\n",
      "Building wheels for collected packages: fst-pso, miniful\n",
      "  Building wheel for fst-pso (setup.py): started\n",
      "  Building wheel for fst-pso (setup.py): finished with status 'done'\n",
      "  Created wheel for fst-pso: filename=fst_pso-1.8.1-py3-none-any.whl size=20441 sha256=aaf24eca646ad78ce6035c2b16e5c2d32a9dda37fbb0a2fb73217eef4efb02ea\n",
      "  Stored in directory: c:\\users\\ani\\appdata\\local\\pip\\cache\\wheels\\6a\\65\\c4\\d27eeee9ba3fc150a0dae150519591103b9e0dbffde3ae77dc\n",
      "  Building wheel for miniful (setup.py): started\n",
      "  Building wheel for miniful (setup.py): finished with status 'done'\n",
      "  Created wheel for miniful: filename=miniful-0.0.6-py3-none-any.whl size=3529 sha256=9925a79ea2301de78be7e2f87f7f98e09cd3011c465cc67fe83068492c98d8a7\n",
      "  Stored in directory: c:\\users\\ani\\appdata\\local\\pip\\cache\\wheels\\ba\\d9\\a0\\ddd93af16d5855dd9bad417623e70948fdac119d1d34fb17c8\n",
      "Successfully built fst-pso miniful\n",
      "Installing collected packages: scipy, miniful, simpful, fst-pso, pyfume, smart-open, FuzzyTM, Cython, gensim\n",
      "  Attempting uninstall: scipy\n",
      "    Found existing installation: scipy 1.6.2\n",
      "    Uninstalling scipy-1.6.2:\n",
      "      Successfully uninstalled scipy-1.6.2\n",
      "  Attempting uninstall: Cython\n",
      "    Found existing installation: Cython 0.29.23\n",
      "    Uninstalling Cython-0.29.23:\n",
      "      Successfully uninstalled Cython-0.29.23\n",
      "Successfully installed Cython-0.29.32 FuzzyTM-2.0.5 fst-pso-1.8.1 gensim-4.3.0 miniful-0.0.6 pyfume-0.2.25 scipy-1.10.0 simpful-2.9.0 smart-open-6.3.0\n",
      "Note: you may need to restart the kernel to use updated packages.\n"
     ]
    },
    {
     "name": "stderr",
     "output_type": "stream",
     "text": [
      "ERROR: pip's dependency resolver does not currently take into account all the packages that are installed. This behaviour is the source of the following dependency conflicts.\n",
      "tensorflow 2.3.0 requires gast==0.3.3, but you have gast 0.4.0 which is incompatible.\n",
      "tensorflow 2.3.0 requires numpy<1.19.0,>=1.16.0, but you have numpy 1.22.4 which is incompatible.\n",
      "tensorflow 2.3.0 requires scipy==1.4.1, but you have scipy 1.10.0 which is incompatible.\n",
      "tensorflow 2.3.0 requires tensorflow-estimator<2.4.0,>=2.3.0, but you have tensorflow-estimator 2.6.0 which is incompatible.\n"
     ]
    }
   ],
   "source": [
    "pip install --upgrade gensim"
   ]
  },
  {
   "cell_type": "code",
   "execution_count": 4,
   "id": "7dad8993",
   "metadata": {},
   "outputs": [],
   "source": [
    "import nltk\n",
    "from gensim.models import Word2Vec\n",
    "from nltk.corpus import stopwords\n",
    "import re"
   ]
  },
  {
   "cell_type": "code",
   "execution_count": 5,
   "id": "4fea33e4",
   "metadata": {},
   "outputs": [],
   "source": [
    "paragraph = \"\"\"I have three visions for India. In 3000 years of our history, people from all over \n",
    "               the world have come and invaded us, captured our lands, conquered our minds. \n",
    "               From Alexander onwards, the Greeks, the Turks, the Moguls, the Portuguese, the British,\n",
    "               the French, the Dutch, all of them came and looted us, took over what was ours. \n",
    "               Yet we have not done this to any other nation. We have not conquered anyone. \n",
    "               We have not grabbed their land, their culture, \n",
    "               their history and tried to enforce our way of life on them. \n",
    "               Why? Because we respect the freedom of others.That is why my \n",
    "               first vision is that of freedom. I believe that India got its first vision of \n",
    "               this in 1857, when we started the War of Independence. It is this freedom that\n",
    "               we must protect and nurture and build on. If we are not free, no one will respect us.\n",
    "               My second vision for India’s development. For fifty years we have been a developing nation.\n",
    "               It is time we see ourselves as a developed nation. We are among the top 5 nations of the world\n",
    "               in terms of GDP. We have a 10 percent growth rate in most areas. Our poverty levels are falling.\n",
    "               Our achievements are being globally recognised today. Yet we lack the self-confidence to\n",
    "               see ourselves as a developed nation, self-reliant and self-assured. Isn’t this incorrect?\n",
    "               I have a third vision. India must stand up to the world. Because I believe that unless India \n",
    "               stands up to the world, no one will respect us. Only strength respects strength. We must be \n",
    "               strong not only as a military power but also as an economic power. Both must go hand-in-hand. \n",
    "               My good fortune was to have worked with three great minds. Dr. Vikram Sarabhai of the Dept. of \n",
    "               space, Professor Satish Dhawan, who succeeded him and Dr. Brahm Prakash, father of nuclear material.\n",
    "               I was lucky to have worked with all three of them closely and consider this the great opportunity of my life. \n",
    "               I see four milestones in my career\"\"\"\n"
   ]
  },
  {
   "cell_type": "code",
   "execution_count": 6,
   "id": "7f459986",
   "metadata": {},
   "outputs": [],
   "source": [
    "# Preprocessing the data\n",
    "text = re.sub(r'\\[[0-9]*\\]',' ',paragraph)\n",
    "text = re.sub(r'\\s+',' ',text)\n",
    "text = text.lower()\n",
    "text = re.sub(r'\\d',' ',text)\n",
    "text = re.sub(r'\\s+',' ',text)"
   ]
  },
  {
   "cell_type": "code",
   "execution_count": 13,
   "id": "de32f837",
   "metadata": {},
   "outputs": [],
   "source": [
    "# Preparing the dataset\n",
    "sentences = nltk.sent_tokenize(text)\n",
    "\n",
    "sentences = [nltk.word_tokenize(sentence) for sentence in sentences]\n",
    "\n",
    "for i in range(len(sentences)):\n",
    "    sentences[i] = [word for word in sentences[i] if word not in stopwords.words('english')]"
   ]
  },
  {
   "cell_type": "code",
   "execution_count": 14,
   "id": "e8194ef9",
   "metadata": {},
   "outputs": [
    {
     "name": "stdout",
     "output_type": "stream",
     "text": [
      "[['three', 'visions', 'india', '.'], ['years', 'history', ',', 'people', 'world', 'come', 'invaded', 'us', ',', 'captured', 'lands', ',', 'conquered', 'minds', '.'], ['alexander', 'onwards', ',', 'greeks', ',', 'turks', ',', 'moguls', ',', 'portuguese', ',', 'british', ',', 'french', ',', 'dutch', ',', 'came', 'looted', 'us', ',', 'took', '.'], ['yet', 'done', 'nation', '.'], ['conquered', 'anyone', '.'], ['grabbed', 'land', ',', 'culture', ',', 'history', 'tried', 'enforce', 'way', 'life', '.'], ['?'], ['respect', 'freedom', 'others.that', 'first', 'vision', 'freedom', '.'], ['believe', 'india', 'got', 'first', 'vision', ',', 'started', 'war', 'independence', '.'], ['freedom', 'must', 'protect', 'nurture', 'build', '.'], ['free', ',', 'one', 'respect', 'us', '.'], ['second', 'vision', 'india', '’', 'development', '.'], ['fifty', 'years', 'developing', 'nation', '.'], ['time', 'see', 'developed', 'nation', '.'], ['among', 'top', 'nations', 'world', 'terms', 'gdp', '.'], ['percent', 'growth', 'rate', 'areas', '.'], ['poverty', 'levels', 'falling', '.'], ['achievements', 'globally', 'recognised', 'today', '.'], ['yet', 'lack', 'self-confidence', 'see', 'developed', 'nation', ',', 'self-reliant', 'self-assured', '.'], ['’', 'incorrect', '?'], ['third', 'vision', '.'], ['india', 'must', 'stand', 'world', '.'], ['believe', 'unless', 'india', 'stands', 'world', ',', 'one', 'respect', 'us', '.'], ['strength', 'respects', 'strength', '.'], ['must', 'strong', 'military', 'power', 'also', 'economic', 'power', '.'], ['must', 'go', 'hand-in-hand', '.'], ['good', 'fortune', 'worked', 'three', 'great', 'minds', '.'], ['dr.', 'vikram', 'sarabhai', 'dept', '.'], ['space', ',', 'professor', 'satish', 'dhawan', ',', 'succeeded', 'dr.', 'brahm', 'prakash', ',', 'father', 'nuclear', 'material', '.'], ['lucky', 'worked', 'three', 'closely', 'consider', 'great', 'opportunity', 'life', '.'], ['see', 'four', 'milestones', 'career']]\n"
     ]
    }
   ],
   "source": [
    "print(sentences)"
   ]
  },
  {
   "cell_type": "code",
   "execution_count": 15,
   "id": "0e1f3d12",
   "metadata": {},
   "outputs": [],
   "source": [
    "# Training the Word2Vec model\n",
    "model = Word2Vec(sentences, min_count=1) #skipping all the words that are present less than one "
   ]
  },
  {
   "cell_type": "code",
   "execution_count": 16,
   "id": "03422700",
   "metadata": {},
   "outputs": [
    {
     "name": "stdout",
     "output_type": "stream",
     "text": [
      "[['three', 'visions', 'india', '.'], ['years', 'history', ',', 'people', 'world', 'come', 'invaded', 'us', ',', 'captured', 'lands', ',', 'conquered', 'minds', '.'], ['alexander', 'onwards', ',', 'greeks', ',', 'turks', ',', 'moguls', ',', 'portuguese', ',', 'british', ',', 'french', ',', 'dutch', ',', 'came', 'looted', 'us', ',', 'took', '.'], ['yet', 'done', 'nation', '.'], ['conquered', 'anyone', '.'], ['grabbed', 'land', ',', 'culture', ',', 'history', 'tried', 'enforce', 'way', 'life', '.'], ['?'], ['respect', 'freedom', 'others.that', 'first', 'vision', 'freedom', '.'], ['believe', 'india', 'got', 'first', 'vision', ',', 'started', 'war', 'independence', '.'], ['freedom', 'must', 'protect', 'nurture', 'build', '.'], ['free', ',', 'one', 'respect', 'us', '.'], ['second', 'vision', 'india', '’', 'development', '.'], ['fifty', 'years', 'developing', 'nation', '.'], ['time', 'see', 'developed', 'nation', '.'], ['among', 'top', 'nations', 'world', 'terms', 'gdp', '.'], ['percent', 'growth', 'rate', 'areas', '.'], ['poverty', 'levels', 'falling', '.'], ['achievements', 'globally', 'recognised', 'today', '.'], ['yet', 'lack', 'self-confidence', 'see', 'developed', 'nation', ',', 'self-reliant', 'self-assured', '.'], ['’', 'incorrect', '?'], ['third', 'vision', '.'], ['india', 'must', 'stand', 'world', '.'], ['believe', 'unless', 'india', 'stands', 'world', ',', 'one', 'respect', 'us', '.'], ['strength', 'respects', 'strength', '.'], ['must', 'strong', 'military', 'power', 'also', 'economic', 'power', '.'], ['must', 'go', 'hand-in-hand', '.'], ['good', 'fortune', 'worked', 'three', 'great', 'minds', '.'], ['dr.', 'vikram', 'sarabhai', 'dept', '.'], ['space', ',', 'professor', 'satish', 'dhawan', ',', 'succeeded', 'dr.', 'brahm', 'prakash', ',', 'father', 'nuclear', 'material', '.'], ['lucky', 'worked', 'three', 'closely', 'consider', 'great', 'opportunity', 'life', '.'], ['see', 'four', 'milestones', 'career']]\n"
     ]
    }
   ],
   "source": [
    "print(sentences)"
   ]
  },
  {
   "cell_type": "code",
   "execution_count": null,
   "id": "17554b07",
   "metadata": {},
   "outputs": [],
   "source": [
    "#Finding vocabulary  "
   ]
  },
  {
   "cell_type": "code",
   "execution_count": 18,
   "id": "a12d0651",
   "metadata": {},
   "outputs": [],
   "source": [
    "words = list(model.wv.index_to_key)"
   ]
  },
  {
   "cell_type": "code",
   "execution_count": 19,
   "id": "10ea0cd6",
   "metadata": {},
   "outputs": [
    {
     "name": "stdout",
     "output_type": "stream",
     "text": [
      "['.', ',', 'india', 'vision', 'must', 'nation', 'world', 'us', 'three', 'freedom', 'respect', 'see', 'first', 'power', 'yet', '’', 'strength', 'worked', '?', 'life', 'believe', 'dr.', 'great', 'minds', 'one', 'years', 'history', 'developed', 'conquered', 'protect', 'others.that', 'war', 'nurture', 'independence', 'build', 'free', 'tried', 'got', 'started', 'way', 'enforce', 'took', 'culture', 'turks', 'visions', 'people', 'come', 'invaded', 'captured', 'lands', 'alexander', 'onwards', 'greeks', 'moguls', 'land', 'portuguese', 'british', 'french', 'dutch', 'came', 'looted', 'done', 'anyone', 'grabbed', 'second', 'career', 'development', 'respects', 'military', 'also', 'economic', 'go', 'hand-in-hand', 'good', 'fortune', 'vikram', 'sarabhai', 'dept', 'space', 'professor', 'satish', 'dhawan', 'succeeded', 'brahm', 'prakash', 'father', 'nuclear', 'material', 'lucky', 'closely', 'consider', 'opportunity', 'four', 'strong', 'stands', 'fifty', 'unless', 'developing', 'milestones', 'among', 'top', 'nations', 'terms', 'gdp', 'percent', 'growth', 'rate', 'areas', 'poverty', 'levels', 'falling', 'achievements', 'globally', 'recognised', 'today', 'lack', 'self-confidence', 'self-reliant', 'self-assured', 'incorrect', 'third', 'stand', 'time']\n"
     ]
    }
   ],
   "source": [
    "print(words)"
   ]
  },
  {
   "cell_type": "code",
   "execution_count": 20,
   "id": "73e18c30",
   "metadata": {},
   "outputs": [],
   "source": [
    "# Finding Word Vectors\n",
    "vector = model.wv['war']"
   ]
  },
  {
   "cell_type": "code",
   "execution_count": 21,
   "id": "4946105e",
   "metadata": {},
   "outputs": [
    {
     "name": "stdout",
     "output_type": "stream",
     "text": [
      "[-0.00219905 -0.00970885  0.00929075  0.00203636 -0.00116388 -0.00551955\n",
      " -0.0085126  -0.00989383  0.00894091 -0.00250522  0.00459427 -0.00452481\n",
      "  0.00995189  0.00366171  0.00103129 -0.00403834  0.00122027 -0.00265451\n",
      "  0.00735284  0.00447542  0.00099955  0.0034782   0.00372712 -0.00680036\n",
      "  0.00893243  0.00173499 -0.00579935  0.00866838 -0.00129286  0.00818304\n",
      " -0.0014927   0.00698649  0.00273452 -0.00436226 -0.00374683  0.00919046\n",
      "  0.00159645 -0.00599784  0.00034776 -0.00195135  0.00159242 -0.00771525\n",
      "  0.00738298  0.00131083  0.00787099  0.00445568 -0.00439675  0.00376054\n",
      " -0.0006357  -0.00984484  0.00825004  0.00964326  0.00965426 -0.00379659\n",
      " -0.00844202  0.00483581 -0.00765107  0.00853567  0.00275977  0.00560496\n",
      "  0.00611362  0.00046455 -0.00209463  0.000778    0.00983559 -0.00711718\n",
      " -0.00155743 -0.00235984  0.00487084  0.00645515 -0.0041403   0.00361816\n",
      " -0.00447258  0.00326611  0.0081738   0.00361967 -0.0045711  -0.00301938\n",
      "  0.00787179  0.00959686  0.00580789 -0.00326881 -0.00183876 -0.00624998\n",
      " -0.00429521  0.00336554 -0.00648911 -0.00661903  0.00811393  0.0095074\n",
      "  0.00814451  0.00150699 -0.00880124 -0.00759764  0.0015789  -0.00952675\n",
      " -0.00741688  0.00203283 -0.00292885 -0.00916266]\n"
     ]
    }
   ],
   "source": [
    "print(vector)"
   ]
  },
  {
   "cell_type": "code",
   "execution_count": 22,
   "id": "fae586b2",
   "metadata": {},
   "outputs": [
    {
     "name": "stdout",
     "output_type": "stream",
     "text": [
      "[('visions', 0.1814650446176529), ('growth', 0.1663493812084198), ('one', 0.1643451601266861), ('took', 0.1643296480178833), (',', 0.15887506306171417), ('fifty', 0.1472669243812561), ('developing', 0.14714020490646362), ('worked', 0.13810549676418304), ('development', 0.13769842684268951), ('time', 0.13293513655662537)]\n"
     ]
    }
   ],
   "source": [
    "# Most similar words\n",
    "similar = model.wv.most_similar('vikram')\n",
    "print(similar)"
   ]
  }
 ],
 "metadata": {
  "kernelspec": {
   "display_name": "Python 3",
   "language": "python",
   "name": "python3"
  },
  "language_info": {
   "codemirror_mode": {
    "name": "ipython",
    "version": 3
   },
   "file_extension": ".py",
   "mimetype": "text/x-python",
   "name": "python",
   "nbconvert_exporter": "python",
   "pygments_lexer": "ipython3",
   "version": "3.8.8"
  }
 },
 "nbformat": 4,
 "nbformat_minor": 5
}
